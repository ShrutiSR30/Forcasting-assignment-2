{
  "nbformat": 4,
  "nbformat_minor": 0,
  "metadata": {
    "kernelspec": {
      "display_name": "Python 3",
      "language": "python",
      "name": "python3"
    },
    "language_info": {
      "codemirror_mode": {
        "name": "ipython",
        "version": 3
      },
      "file_extension": ".py",
      "mimetype": "text/x-python",
      "name": "python",
      "nbconvert_exporter": "python",
      "pygments_lexer": "ipython3",
      "version": "3.8.5"
    },
    "colab": {
      "name": "assignment forecsting on the airlines data.ipynb",
      "provenance": []
    }
  },
  "cells": [
    {
      "cell_type": "markdown",
      "metadata": {
        "id": "bcDCr6tqNP2s"
      },
      "source": [
        "## Forecast the Airlines Passengers data set. Prepare a document for each model explaining \n",
        "how many dummy variables you have created and RMSE value for each model. Finally which model you will use for \n",
        "Forecasting."
      ]
    },
    {
      "cell_type": "code",
      "metadata": {
        "colab": {
          "base_uri": "https://localhost:8080/"
        },
        "id": "ld5L2W2NNS6l",
        "outputId": "eb26037b-fc5a-4f6b-e2f1-c62e8f5b7d72"
      },
      "source": [
        "from google.colab import drive\n",
        "drive.mount('/content/drive')"
      ],
      "execution_count": 1,
      "outputs": [
        {
          "output_type": "stream",
          "name": "stdout",
          "text": [
            "Mounted at /content/drive\n"
          ]
        }
      ]
    },
    {
      "cell_type": "code",
      "metadata": {
        "colab": {
          "base_uri": "https://localhost:8080/"
        },
        "id": "raqTmFo2NP21",
        "outputId": "b99b44d1-5643-4bab-e3d5-d5f7be9defc6"
      },
      "source": [
        "import pandas as pd \n",
        "import numpy as np \n",
        "import seaborn as sns \n",
        "import matplotlib.pyplot as plt\n",
        "from pandas.plotting import lag_plot\n",
        "from sklearn.model_selection import train_test_split\n",
        "import warnings\n",
        "import itertools\n",
        "from statsmodels.tsa.arima_model import ARIMA\n",
        "from statsmodels.tsa.seasonal import seasonal_decompose\n",
        "from statsmodels.tsa.holtwinters import SimpleExpSmoothing\n",
        "from statsmodels.tsa.holtwinters import Holt\n",
        "from statsmodels.tsa.holtwinters import ExponentialSmoothing\n"
      ],
      "execution_count": 2,
      "outputs": [
        {
          "output_type": "stream",
          "name": "stderr",
          "text": [
            "/usr/local/lib/python3.7/dist-packages/statsmodels/tools/_testing.py:19: FutureWarning: pandas.util.testing is deprecated. Use the functions in the public API at pandas.testing instead.\n",
            "  import pandas.util.testing as tm\n"
          ]
        }
      ]
    },
    {
      "cell_type": "code",
      "metadata": {
        "colab": {
          "base_uri": "https://localhost:8080/",
          "height": 419
        },
        "id": "0md-AX9INP24",
        "outputId": "fcf77f5d-e3dc-463a-826c-1ea0357bbed1"
      },
      "source": [
        "data=pd.read_excel('/content/drive/MyDrive/Colab Notebooks/Airlines+Data.xlsx')\n",
        "data "
      ],
      "execution_count": 3,
      "outputs": [
        {
          "output_type": "execute_result",
          "data": {
            "text/html": [
              "<div>\n",
              "<style scoped>\n",
              "    .dataframe tbody tr th:only-of-type {\n",
              "        vertical-align: middle;\n",
              "    }\n",
              "\n",
              "    .dataframe tbody tr th {\n",
              "        vertical-align: top;\n",
              "    }\n",
              "\n",
              "    .dataframe thead th {\n",
              "        text-align: right;\n",
              "    }\n",
              "</style>\n",
              "<table border=\"1\" class=\"dataframe\">\n",
              "  <thead>\n",
              "    <tr style=\"text-align: right;\">\n",
              "      <th></th>\n",
              "      <th>Month</th>\n",
              "      <th>Passengers</th>\n",
              "    </tr>\n",
              "  </thead>\n",
              "  <tbody>\n",
              "    <tr>\n",
              "      <th>0</th>\n",
              "      <td>1995-01-01</td>\n",
              "      <td>112</td>\n",
              "    </tr>\n",
              "    <tr>\n",
              "      <th>1</th>\n",
              "      <td>1995-02-01</td>\n",
              "      <td>118</td>\n",
              "    </tr>\n",
              "    <tr>\n",
              "      <th>2</th>\n",
              "      <td>1995-03-01</td>\n",
              "      <td>132</td>\n",
              "    </tr>\n",
              "    <tr>\n",
              "      <th>3</th>\n",
              "      <td>1995-04-01</td>\n",
              "      <td>129</td>\n",
              "    </tr>\n",
              "    <tr>\n",
              "      <th>4</th>\n",
              "      <td>1995-05-01</td>\n",
              "      <td>121</td>\n",
              "    </tr>\n",
              "    <tr>\n",
              "      <th>...</th>\n",
              "      <td>...</td>\n",
              "      <td>...</td>\n",
              "    </tr>\n",
              "    <tr>\n",
              "      <th>91</th>\n",
              "      <td>2002-08-01</td>\n",
              "      <td>405</td>\n",
              "    </tr>\n",
              "    <tr>\n",
              "      <th>92</th>\n",
              "      <td>2002-09-01</td>\n",
              "      <td>355</td>\n",
              "    </tr>\n",
              "    <tr>\n",
              "      <th>93</th>\n",
              "      <td>2002-10-01</td>\n",
              "      <td>306</td>\n",
              "    </tr>\n",
              "    <tr>\n",
              "      <th>94</th>\n",
              "      <td>2002-11-01</td>\n",
              "      <td>271</td>\n",
              "    </tr>\n",
              "    <tr>\n",
              "      <th>95</th>\n",
              "      <td>2002-12-01</td>\n",
              "      <td>306</td>\n",
              "    </tr>\n",
              "  </tbody>\n",
              "</table>\n",
              "<p>96 rows × 2 columns</p>\n",
              "</div>"
            ],
            "text/plain": [
              "        Month  Passengers\n",
              "0  1995-01-01         112\n",
              "1  1995-02-01         118\n",
              "2  1995-03-01         132\n",
              "3  1995-04-01         129\n",
              "4  1995-05-01         121\n",
              "..        ...         ...\n",
              "91 2002-08-01         405\n",
              "92 2002-09-01         355\n",
              "93 2002-10-01         306\n",
              "94 2002-11-01         271\n",
              "95 2002-12-01         306\n",
              "\n",
              "[96 rows x 2 columns]"
            ]
          },
          "metadata": {},
          "execution_count": 3
        }
      ]
    },
    {
      "cell_type": "markdown",
      "metadata": {
        "id": "JuoKzlxzNP29"
      },
      "source": [
        "# performing the basic EDA analysis on the data "
      ]
    },
    {
      "cell_type": "code",
      "metadata": {
        "colab": {
          "base_uri": "https://localhost:8080/"
        },
        "id": "yEpmwlU9NP2-",
        "outputId": "74a85cbd-1e6d-4816-9a54-6674849ece14"
      },
      "source": [
        "data.info()"
      ],
      "execution_count": 4,
      "outputs": [
        {
          "output_type": "stream",
          "name": "stdout",
          "text": [
            "<class 'pandas.core.frame.DataFrame'>\n",
            "RangeIndex: 96 entries, 0 to 95\n",
            "Data columns (total 2 columns):\n",
            " #   Column      Non-Null Count  Dtype         \n",
            "---  ------      --------------  -----         \n",
            " 0   Month       96 non-null     datetime64[ns]\n",
            " 1   Passengers  96 non-null     int64         \n",
            "dtypes: datetime64[ns](1), int64(1)\n",
            "memory usage: 1.6 KB\n"
          ]
        }
      ]
    },
    {
      "cell_type": "code",
      "metadata": {
        "colab": {
          "base_uri": "https://localhost:8080/",
          "height": 297
        },
        "id": "UujMUh9GNP3A",
        "outputId": "19c1194b-03ca-4beb-c2ac-6d159026e00f"
      },
      "source": [
        "data.describe()"
      ],
      "execution_count": 5,
      "outputs": [
        {
          "output_type": "execute_result",
          "data": {
            "text/html": [
              "<div>\n",
              "<style scoped>\n",
              "    .dataframe tbody tr th:only-of-type {\n",
              "        vertical-align: middle;\n",
              "    }\n",
              "\n",
              "    .dataframe tbody tr th {\n",
              "        vertical-align: top;\n",
              "    }\n",
              "\n",
              "    .dataframe thead th {\n",
              "        text-align: right;\n",
              "    }\n",
              "</style>\n",
              "<table border=\"1\" class=\"dataframe\">\n",
              "  <thead>\n",
              "    <tr style=\"text-align: right;\">\n",
              "      <th></th>\n",
              "      <th>Passengers</th>\n",
              "    </tr>\n",
              "  </thead>\n",
              "  <tbody>\n",
              "    <tr>\n",
              "      <th>count</th>\n",
              "      <td>96.000000</td>\n",
              "    </tr>\n",
              "    <tr>\n",
              "      <th>mean</th>\n",
              "      <td>213.708333</td>\n",
              "    </tr>\n",
              "    <tr>\n",
              "      <th>std</th>\n",
              "      <td>71.918216</td>\n",
              "    </tr>\n",
              "    <tr>\n",
              "      <th>min</th>\n",
              "      <td>104.000000</td>\n",
              "    </tr>\n",
              "    <tr>\n",
              "      <th>25%</th>\n",
              "      <td>156.000000</td>\n",
              "    </tr>\n",
              "    <tr>\n",
              "      <th>50%</th>\n",
              "      <td>200.000000</td>\n",
              "    </tr>\n",
              "    <tr>\n",
              "      <th>75%</th>\n",
              "      <td>264.750000</td>\n",
              "    </tr>\n",
              "    <tr>\n",
              "      <th>max</th>\n",
              "      <td>413.000000</td>\n",
              "    </tr>\n",
              "  </tbody>\n",
              "</table>\n",
              "</div>"
            ],
            "text/plain": [
              "       Passengers\n",
              "count   96.000000\n",
              "mean   213.708333\n",
              "std     71.918216\n",
              "min    104.000000\n",
              "25%    156.000000\n",
              "50%    200.000000\n",
              "75%    264.750000\n",
              "max    413.000000"
            ]
          },
          "metadata": {},
          "execution_count": 5
        }
      ]
    },
    {
      "cell_type": "code",
      "metadata": {
        "colab": {
          "base_uri": "https://localhost:8080/"
        },
        "id": "MdtrN_PDNP3B",
        "outputId": "5720c8ec-c695-47c3-a127-cffc01fcda68"
      },
      "source": [
        "data.isna().sum()"
      ],
      "execution_count": 6,
      "outputs": [
        {
          "output_type": "execute_result",
          "data": {
            "text/plain": [
              "Month         0\n",
              "Passengers    0\n",
              "dtype: int64"
            ]
          },
          "metadata": {},
          "execution_count": 6
        }
      ]
    },
    {
      "cell_type": "markdown",
      "metadata": {
        "id": "J4_pyZCWNP3D"
      },
      "source": [
        "# performing the basic visualization of the forecasting"
      ]
    },
    {
      "cell_type": "code",
      "metadata": {
        "id": "CC3TDgw4NP3G"
      },
      "source": [
        "data_vis=pd.read_excel('/content/drive/MyDrive/Colab Notebooks/Airlines+Data.xlsx',header=0,index_col=0,parse_dates=True,squeeze=True)"
      ],
      "execution_count": 8,
      "outputs": []
    },
    {
      "cell_type": "code",
      "metadata": {
        "id": "_KZ_tWxhNP3I",
        "outputId": "38abfe89-95e1-4d55-a4bc-98f8354227d4"
      },
      "source": [
        "data_vis.plot()"
      ],
      "execution_count": null,
      "outputs": [
        {
          "data": {
            "text/plain": [
              "<AxesSubplot:xlabel='Month'>"
            ]
          },
          "execution_count": 7,
          "metadata": {},
          "output_type": "execute_result"
        },
        {
          "data": {
            "image/png": "[encoded data removed]",
            "text/plain": [
              "<Figure size 432x288 with 1 Axes>"
            ]
          },
          "metadata": {
            "needs_background": "light"
          },
          "output_type": "display_data"
        }
      ]
    },
    {
      "cell_type": "code",
      "metadata": {
        "colab": {
          "base_uri": "https://localhost:8080/",
          "height": 333
        },
        "id": "SajbMJaoNP3J",
        "outputId": "5d6d8773-4183-47a5-ee19-a550f6541205"
      },
      "source": [
        "plt.hist(data_vis)"
      ],
      "execution_count": 9,
      "outputs": [
        {
          "output_type": "execute_result",
          "data": {
            "text/plain": [
              "(array([13., 14., 19.,  9., 14., 12.,  9.,  1.,  3.,  2.]),\n",
              " array([104. , 134.9, 165.8, 196.7, 227.6, 258.5, 289.4, 320.3, 351.2,\n",
              "        382.1, 413. ]),\n",
              " <a list of 10 Patch objects>)"
            ]
          },
          "metadata": {},
          "execution_count": 9
        },
        {
          "output_type": "display_data",
          "data": {
            "image/png": "[encoded data removed]",
            "text/plain": [
              "<Figure size 432x288 with 1 Axes>"
            ]
          },
          "metadata": {
            "needs_background": "light"
          }
        }
      ]
    },
    {
      "cell_type": "code",
      "metadata": {
        "colab": {
          "base_uri": "https://localhost:8080/",
          "height": 282
        },
        "id": "Kxy5nDUZNP3K",
        "outputId": "f8534837-8479-48f9-92fd-bb2da2495733"
      },
      "source": [
        "data_vis.plot(kind='kde')"
      ],
      "execution_count": 10,
      "outputs": [
        {
          "output_type": "execute_result",
          "data": {
            "text/plain": [
              "<matplotlib.axes._subplots.AxesSubplot at 0x7f2226ec7c50>"
            ]
          },
          "metadata": {},
          "execution_count": 10
        },
        {
          "output_type": "display_data",
          "data": {
            "image/png": "[encoded data removed]",
            "text/plain": [
              "<Figure size 432x288 with 1 Axes>"
            ]
          },
          "metadata": {
            "needs_background": "light"
          }
        }
      ]
    },
    {
      "cell_type": "code",
      "metadata": {
        "colab": {
          "base_uri": "https://localhost:8080/",
          "height": 265
        },
        "id": "1qoA1E89NP3M",
        "outputId": "66e1ecaf-8d9b-4803-826e-721e6cd89f36"
      },
      "source": [
        "group=data_vis.groupby(pd.Grouper(freq='A'))\n",
        "years=pd.DataFrame()\n",
        "for i,j in group:\n",
        "    years[i.year]=j.values\n",
        "years.boxplot()\n",
        "plt.show()"
      ],
      "execution_count": 11,
      "outputs": [
        {
          "output_type": "display_data",
          "data": {
            "image/png": "[encoded data removed]",
            "text/plain": [
              "<Figure size 432x288 with 1 Axes>"
            ]
          },
          "metadata": {
            "needs_background": "light"
          }
        }
      ]
    },
    {
      "cell_type": "code",
      "metadata": {
        "colab": {
          "base_uri": "https://localhost:8080/",
          "height": 296
        },
        "id": "Oy6I8Iq7NP3N",
        "outputId": "1680dca6-07be-4158-c59a-bb3f02578647"
      },
      "source": [
        "lag_plot(data_vis)"
      ],
      "execution_count": 12,
      "outputs": [
        {
          "output_type": "execute_result",
          "data": {
            "text/plain": [
              "<matplotlib.axes._subplots.AxesSubplot at 0x7f2226ec33d0>"
            ]
          },
          "metadata": {},
          "execution_count": 12
        },
        {
          "output_type": "display_data",
          "data": {
            "image/png": "[encoded data removed]",
            "text/plain": [
              "<Figure size 432x288 with 1 Axes>"
            ]
          },
          "metadata": {
            "needs_background": "light"
          }
        }
      ]
    },
    {
      "cell_type": "markdown",
      "metadata": {
        "id": "HWy9ECy-NP3P"
      },
      "source": [
        "# performing the data driven methods on the dataset"
      ]
    },
    {
      "cell_type": "code",
      "metadata": {
        "id": "iDivdaUfNP3P"
      },
      "source": [
        "train=data.head(80)# spliting the data into train and test\n",
        "test=data.tail(16)"
      ],
      "execution_count": 13,
      "outputs": []
    },
    {
      "cell_type": "markdown",
      "metadata": {
        "id": "fzVpCIkJNP3Q"
      },
      "source": [
        "# moving average  and time decomposition plot  "
      ]
    },
    {
      "cell_type": "code",
      "metadata": {
        "colab": {
          "base_uri": "https://localhost:8080/",
          "height": 282
        },
        "id": "HJVwZxpHNP3R",
        "outputId": "24c0458d-1cc5-4c4f-e8d6-9a81bfa1f0a3"
      },
      "source": [
        "plt.figure(figsize=(12,4))\n",
        "data.Passengers.plot(label='org')\n",
        "for i in range(2,18,4):\n",
        "    data['Passengers'].rolling(i).mean().plot(label=(str(i)))\n",
        "plt.legend(loc='best')"
      ],
      "execution_count": 14,
      "outputs": [
        {
          "output_type": "execute_result",
          "data": {
            "text/plain": [
              "<matplotlib.legend.Legend at 0x7f2224c59590>"
            ]
          },
          "metadata": {},
          "execution_count": 14
        },
        {
          "output_type": "display_data",
          "data": {
            "image/png": "[encoded data removed]",
            "text/plain": [
              "<Figure size 864x288 with 1 Axes>"
            ]
          },
          "metadata": {
            "needs_background": "light"
          }
        }
      ]
    },
    {
      "cell_type": "code",
      "metadata": {
        "colab": {
          "base_uri": "https://localhost:8080/",
          "height": 297
        },
        "id": "qbm_dgllNP3R",
        "outputId": "e159170c-c807-41b2-9386-3801a164525a"
      },
      "source": [
        "time_plot=seasonal_decompose(data.Passengers,freq=2)\n",
        "time_plot.plot()\n",
        "plt.show()"
      ],
      "execution_count": 15,
      "outputs": [
        {
          "output_type": "display_data",
          "data": {
            "image/png": "[encoded data removed]",
            "text/plain": [
              "<Figure size 432x288 with 4 Axes>"
            ]
          },
          "metadata": {
            "needs_background": "light"
          }
        }
      ]
    },
    {
      "cell_type": "markdown",
      "metadata": {
        "id": "30rc0uppNP3S"
      },
      "source": [
        "# creating my metric MAPE inorder to find the model performance"
      ]
    },
    {
      "cell_type": "code",
      "metadata": {
        "id": "ptHjtCAnNP3T"
      },
      "source": [
        "def Mape(pred,org):\n",
        "    temp=np.abs((pred-org)/org)*100\n",
        "    return np.mean(temp)"
      ],
      "execution_count": 16,
      "outputs": []
    },
    {
      "cell_type": "markdown",
      "metadata": {
        "id": "i3uEgi8ANP3T"
      },
      "source": [
        "# developing the model of simple exponential  "
      ]
    },
    {
      "cell_type": "code",
      "metadata": {
        "colab": {
          "base_uri": "https://localhost:8080/"
        },
        "id": "PkTylpeBNP3U",
        "outputId": "6252b234-95b2-4065-96ca-680a64956b6a"
      },
      "source": [
        "train['Passengers']=train['Passengers'].astype('double')\n",
        "sem_model=SimpleExpSmoothing(train['Passengers']).fit(smoothing_level=0.2)"
      ],
      "execution_count": 17,
      "outputs": [
        {
          "output_type": "stream",
          "name": "stderr",
          "text": [
            "/usr/local/lib/python3.7/dist-packages/ipykernel_launcher.py:1: SettingWithCopyWarning: \n",
            "A value is trying to be set on a copy of a slice from a DataFrame.\n",
            "Try using .loc[row_indexer,col_indexer] = value instead\n",
            "\n",
            "See the caveats in the documentation: https://pandas.pydata.org/pandas-docs/stable/user_guide/indexing.html#returning-a-view-versus-a-copy\n",
            "  \"\"\"Entry point for launching an IPython kernel.\n"
          ]
        }
      ]
    },
    {
      "cell_type": "code",
      "metadata": {
        "colab": {
          "base_uri": "https://localhost:8080/"
        },
        "id": "Ndh4K6XyNP3V",
        "outputId": "7ab97b25-72da-4b65-9872-969d61c5af2d"
      },
      "source": [
        "pred_sem=sem_model.predict(start=test.index[0],end=test.index[-1])\n",
        "pred_sem"
      ],
      "execution_count": 18,
      "outputs": [
        {
          "output_type": "execute_result",
          "data": {
            "text/plain": [
              "80    297.434175\n",
              "81    297.434175\n",
              "82    297.434175\n",
              "83    297.434175\n",
              "84    297.434175\n",
              "85    297.434175\n",
              "86    297.434175\n",
              "87    297.434175\n",
              "88    297.434175\n",
              "89    297.434175\n",
              "90    297.434175\n",
              "91    297.434175\n",
              "92    297.434175\n",
              "93    297.434175\n",
              "94    297.434175\n",
              "95    297.434175\n",
              "dtype: float64"
            ]
          },
          "metadata": {},
          "execution_count": 18
        }
      ]
    },
    {
      "cell_type": "code",
      "metadata": {
        "colab": {
          "base_uri": "https://localhost:8080/"
        },
        "id": "OYC9gHI3NP3W",
        "outputId": "ed5d6734-a233-41e4-cb6b-107ddfd2bf30"
      },
      "source": [
        "sem_mape=Mape(pred_sem,test.Passengers)\n",
        "sem_mape"
      ],
      "execution_count": 19,
      "outputs": [
        {
          "output_type": "execute_result",
          "data": {
            "text/plain": [
              "11.375850554268087"
            ]
          },
          "metadata": {},
          "execution_count": 19
        }
      ]
    },
    {
      "cell_type": "markdown",
      "metadata": {
        "id": "AmlguDudNP3W"
      },
      "source": [
        "# developing the holt method "
      ]
    },
    {
      "cell_type": "code",
      "metadata": {
        "id": "LKyYxSJGNP3W"
      },
      "source": [
        "holt_method=Holt(train['Passengers']).fit(smoothing_level=0.8,smoothing_slope=0.2)"
      ],
      "execution_count": 20,
      "outputs": []
    },
    {
      "cell_type": "code",
      "metadata": {
        "colab": {
          "base_uri": "https://localhost:8080/"
        },
        "id": "JLS1t_3kNP3X",
        "outputId": "49985ccd-d8e7-4b0b-9f6b-7109f767e8ec"
      },
      "source": [
        "holt_pred=holt_method.predict(start=test.index[0],end=test.index[-1])\n",
        "holt_pred"
      ],
      "execution_count": 21,
      "outputs": [
        {
          "output_type": "execute_result",
          "data": {
            "text/plain": [
              "80    366.386458\n",
              "81    380.542978\n",
              "82    394.699497\n",
              "83    408.856016\n",
              "84    423.012535\n",
              "85    437.169055\n",
              "86    451.325574\n",
              "87    465.482093\n",
              "88    479.638612\n",
              "89    493.795132\n",
              "90    507.951651\n",
              "91    522.108170\n",
              "92    536.264689\n",
              "93    550.421208\n",
              "94    564.577728\n",
              "95    578.734247\n",
              "dtype: float64"
            ]
          },
          "metadata": {},
          "execution_count": 21
        }
      ]
    },
    {
      "cell_type": "code",
      "metadata": {
        "colab": {
          "base_uri": "https://localhost:8080/"
        },
        "id": "Thi6vrhxNP3Y",
        "outputId": "40a42be6-eeaa-4c6c-f434-203c6e65cdcd"
      },
      "source": [
        "holt_mape=Mape(holt_pred,test.Passengers)\n",
        "holt_mape"
      ],
      "execution_count": 22,
      "outputs": [
        {
          "output_type": "execute_result",
          "data": {
            "text/plain": [
              "51.93443984363292"
            ]
          },
          "metadata": {},
          "execution_count": 22
        }
      ]
    },
    {
      "cell_type": "markdown",
      "metadata": {
        "id": "Z6VuwO_cNP3Y"
      },
      "source": [
        "##  Holt winter exponential smoothing with additive seasonality and additive trend"
      ]
    },
    {
      "cell_type": "code",
      "metadata": {
        "colab": {
          "base_uri": "https://localhost:8080/"
        },
        "id": "5297oAL3NP3Z",
        "outputId": "aba14b76-fa39-4d17-e548-947230eaf6e7"
      },
      "source": [
        "holt_win_model = ExponentialSmoothing(train['Passengers'],seasonal=\"add\",trend=\"add\",seasonal_periods=12).fit()"
      ],
      "execution_count": 23,
      "outputs": [
        {
          "output_type": "stream",
          "name": "stderr",
          "text": [
            "/usr/local/lib/python3.7/dist-packages/statsmodels/tsa/holtwinters.py:712: ConvergenceWarning: Optimization failed to converge. Check mle_retvals.\n",
            "  ConvergenceWarning)\n"
          ]
        }
      ]
    },
    {
      "cell_type": "code",
      "metadata": {
        "colab": {
          "base_uri": "https://localhost:8080/"
        },
        "id": "0aZlDsfdNP3Z",
        "outputId": "96382da3-866e-4bd3-852f-1f570ff73aaf"
      },
      "source": [
        "holt_win_model_pred=holt_win_model.predict(start=test.index[0],end=test.index[-1])\n",
        "holt_win_model_pred"
      ],
      "execution_count": 24,
      "outputs": [
        {
          "output_type": "execute_result",
          "data": {
            "text/plain": [
              "80    299.544917\n",
              "81    270.298533\n",
              "82    245.060446\n",
              "83    271.637076\n",
              "84    283.528203\n",
              "85    274.039369\n",
              "86    312.090046\n",
              "87    315.520558\n",
              "88    318.933215\n",
              "89    360.746614\n",
              "90    402.312133\n",
              "91    369.082293\n",
              "92    333.750413\n",
              "93    304.504029\n",
              "94    279.265942\n",
              "95    305.842572\n",
              "dtype: float64"
            ]
          },
          "metadata": {},
          "execution_count": 24
        }
      ]
    },
    {
      "cell_type": "code",
      "metadata": {
        "colab": {
          "base_uri": "https://localhost:8080/"
        },
        "id": "BxbY_ZE9NP3a",
        "outputId": "d52244d0-5dc6-4354-b33d-8d590510511a"
      },
      "source": [
        "holt_win_model_mape=Mape(holt_win_model_pred,test['Passengers'])\n",
        "holt_win_model_mape"
      ],
      "execution_count": 25,
      "outputs": [
        {
          "output_type": "execute_result",
          "data": {
            "text/plain": [
              "2.4682346664794004"
            ]
          },
          "metadata": {},
          "execution_count": 25
        }
      ]
    },
    {
      "cell_type": "markdown",
      "metadata": {
        "id": "SYlDILV3NP3a"
      },
      "source": [
        "# Holts winter exponential smoothing with multiplicative seasonality and additive trend"
      ]
    },
    {
      "cell_type": "code",
      "metadata": {
        "id": "KxdsZjIrNP3b"
      },
      "source": [
        "holt_win_model2 = ExponentialSmoothing(train['Passengers'],seasonal=\"mul\",trend=\"add\",seasonal_periods=12).fit() "
      ],
      "execution_count": 26,
      "outputs": []
    },
    {
      "cell_type": "code",
      "metadata": {
        "colab": {
          "base_uri": "https://localhost:8080/"
        },
        "id": "owQSwqSiNP3b",
        "outputId": "3ec35e2f-f533-4de7-bb10-3e5468d99c13"
      },
      "source": [
        "holt_win_model2_pred=holt_win_model2.predict(start=test.index[0],end=test.index[-1])\n",
        "holt_win_model2_pred"
      ],
      "execution_count": 27,
      "outputs": [
        {
          "output_type": "execute_result",
          "data": {
            "text/plain": [
              "80    310.165771\n",
              "81    273.374566\n",
              "82    239.332466\n",
              "83    270.773627\n",
              "84    276.710134\n",
              "85    274.046776\n",
              "86    317.627964\n",
              "87    307.782755\n",
              "88    306.470569\n",
              "89    343.863274\n",
              "90    384.045848\n",
              "91    379.408030\n",
              "92    336.641811\n",
              "93    296.545251\n",
              "94    259.475537\n",
              "95    293.404176\n",
              "dtype: float64"
            ]
          },
          "metadata": {},
          "execution_count": 27
        }
      ]
    },
    {
      "cell_type": "code",
      "metadata": {
        "id": "MPaV1XGaNP3b"
      },
      "source": [
        ""
      ],
      "execution_count": 27,
      "outputs": []
    },
    {
      "cell_type": "code",
      "metadata": {
        "colab": {
          "base_uri": "https://localhost:8080/"
        },
        "id": "ht8USwJ_NP3c",
        "outputId": "84e2df3f-e0a5-44a8-eb89-7759f0525582"
      },
      "source": [
        "holt_win_model2_mape=Mape(holt_win_model2_pred,test['Passengers'])\n",
        "holt_win_model2_mape"
      ],
      "execution_count": 28,
      "outputs": [
        {
          "output_type": "execute_result",
          "data": {
            "text/plain": [
              "3.221305648702712"
            ]
          },
          "metadata": {},
          "execution_count": 28
        }
      ]
    },
    {
      "cell_type": "markdown",
      "metadata": {
        "id": "wfxAxKCmNP3c"
      },
      "source": [
        "# from the above model we are using the holts winter exponential smoothing with multiplicative seasonality and additive trend because it has given the lowest value of the Mape  and applying on the entire data set"
      ]
    },
    {
      "cell_type": "code",
      "metadata": {
        "id": "lXR234x1NP3d"
      },
      "source": [
        "data['Passengers']=data['Passengers'].astype('double')"
      ],
      "execution_count": 29,
      "outputs": []
    },
    {
      "cell_type": "code",
      "metadata": {
        "id": "V0m_ppcxNP3d"
      },
      "source": [
        "model=ExponentialSmoothing(data['Passengers'],seasonal=\"mul\",trend=\"add\",seasonal_periods=12).fit()"
      ],
      "execution_count": 30,
      "outputs": []
    },
    {
      "cell_type": "code",
      "metadata": {
        "colab": {
          "base_uri": "https://localhost:8080/"
        },
        "id": "R_djB-zENP3e",
        "outputId": "ecefd2cd-790c-4909-c445-87826fd59db0"
      },
      "source": [
        "model.forecast(5)"
      ],
      "execution_count": 31,
      "outputs": [
        {
          "output_type": "execute_result",
          "data": {
            "text/plain": [
              "96     312.897034\n",
              "97     308.167827\n",
              "98     355.528080\n",
              "99     345.763587\n",
              "100    345.688515\n",
              "dtype: float64"
            ]
          },
          "metadata": {},
          "execution_count": 31
        }
      ]
    }
  ]
}